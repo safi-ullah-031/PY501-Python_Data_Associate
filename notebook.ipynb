{
 "cells": [
  {
   "cell_type": "markdown",
   "id": "8d0bcede-0826-475c-8678-72835c042b37",
   "metadata": {},
   "source": [
    "# Practical Exam: Spectrum Shades LLC\n",
    "Spectrum Shades LLC is a prominent supplier of concrete color solutions, offering a wide range of pigments and coloring systems used in various concrete applications, including decorative concrete, precast concrete, and concrete pavers. The company prides itself on delivering high-quality colorants that meet the unique needs of its diverse clientele, including contractors, architects, and construction companies.\n",
    "</br></br>\n",
    "The company has recently observed a growing number of customer complaints regarding inconsistent color quality in their products. The discrepancies have led to a decline in customer satisfaction and a potential increase in product returns.\n",
    "By identifying and mitigating the factors causing color variations, the company can enhance product reliability, reduce customer complaints, and minimize return rates.\n",
    "</br></br>\n",
    "You are part of the data analysis team tasked with providing actionable insights to help Spectrum Shades LLC address the issues of inconsistent color quality and improve customer satisfaction."
   ]
  },
  {
   "cell_type": "markdown",
   "id": "c0d5a3bb-bbae-4d39-a6c6-daa46c470347",
   "metadata": {},
   "source": [
    "# Task 1\n",
    "\n",
    "Before you can start any analysis, you need to confirm that the data is accurate and reflects what you expect to see. \n",
    "\n",
    "It is known that there are some issues with the `production_data` table, and the data team have provided the following data description. \n",
    "\n",
    "Write a query to ensure the data matches the description provided, including identifying and cleaning all invalid values. You must match all column names and description criteria.\n",
    "</br>\n",
    "\n",
    "- You should start with the data in the file \"production_data.csv\".\n",
    "- Your output should be a DataFrame named clean_data.\n",
    "- All column names and values should match the table below.\n",
    "</br>\n",
    "\n",
    "| Column Name             | Criteria                                                                                         |\n",
    "|--------------------------|--------------------------------------------------------------------------------------------------|\n",
    "| batch_id | Discrete. Identifier for each batch. Missing values are not possible. |\n",
    "| production_date | Date. Date when the batch was produced.|\n",
    "| raw_material_supplier | Categorical. Supplier of the raw materials. (1='national_supplier', 2='international_supplier'). <br> Missing values should be replaced with 'national_supplier'.|\n",
    "| pigment_type           | Nominal. Type of pigment used. ['type_a', 'type_b', 'type_c']. <br> Missing values should be replaced with 'other'. |\n",
    "| pigment_quantity       | Continuous. Amount of pigment added (in kilograms) (Range: 1 - 100). <br> Missing values should be replaced with median. |\n",
    "| mixing_time           | Continuous. Duration of the mixing process (in minutes). <br> Missing values should be replaced with mean, rounded to 2 decimal places. |\n",
    "| mixing_speed          | Categorical. Speed of the mixing process represented as categories: 'Low', 'Medium', 'High'.</br> Missing values should be replaced with 'Not Specified'. |\n",
    "| product_quality_score | Continuous. Overall quality score of the final product (rating on a scale of 1 to 10). <br> Missing values should be replaced with mean, rounded to 2 decimal places. |\n"
   ]
  },
  {
   "cell_type": "code",
   "execution_count": 8,
   "id": "5ce18b54-29af-4beb-bc8c-79c4e21bcd52",
   "metadata": {
    "executionCancelledAt": null,
    "executionTime": 163,
    "lastExecutedAt": 1731053986444,
    "lastExecutedByKernel": "54c4832d-27c0-4ad4-b2f8-2f3277769903",
    "lastScheduledRunId": null,
    "lastSuccessfullyExecutedCode": "# Write your answer to Task 1 here\n",
    "outputsMetadata": {
     "0": {
      "height": 543,
      "type": "dataFrame"
     }
    }
   },
   "outputs": [],
   "source": [
    "import pandas as pd\n",
    "import numpy as np\n",
    "\n",
    "# Load data\n",
    "df = pd.read_csv('production_data.csv')\n",
    "\n",
    "# --- Data Cleaning ---\n",
    "# 1. batch_id: drop rows with missing batch_id\n",
    "clean = df.dropna(subset=['batch_id'])\n",
    "\n",
    "# 2. production_date: ensure valid date\n",
    "clean['production_date'] = pd.to_datetime(clean['production_date'], errors='coerce')\n",
    "clean = clean.dropna(subset=['production_date'])\n",
    "\n",
    "# 3. raw_material_supplier: 1='national_supplier', 2='international_supplier', missing->'national_supplier'\n",
    "clean['raw_material_supplier'] = clean['raw_material_supplier'].replace({1: 'national_supplier', 2: 'international_supplier'})\n",
    "clean['raw_material_supplier'] = clean['raw_material_supplier'].fillna('national_supplier')\n",
    "\n",
    "# 4. pigment_type: only ['type_a', 'type_b', 'type_c'], fix case, missing->'other'\n",
    "clean['pigment_type'] = clean['pigment_type'].str.lower().replace({'type_a':'type_a','type_b':'type_b','type_c':'type_c'})\n",
    "clean['pigment_type'] = clean['pigment_type'].where(clean['pigment_type'].isin(['type_a','type_b','type_c']), 'other')\n",
    "clean['pigment_type'] = clean['pigment_type'].fillna('other')\n",
    "\n",
    "# 5. pigment_quantity: 1-100, missing->median, out of range->nan then fill\n",
    "clean['pigment_quantity'] = pd.to_numeric(clean['pigment_quantity'], errors='coerce')\n",
    "clean.loc[(clean['pigment_quantity'] < 1) | (clean['pigment_quantity'] > 100), 'pigment_quantity'] = np.nan\n",
    "pigment_quantity_median = clean['pigment_quantity'].median()\n",
    "clean['pigment_quantity'] = clean['pigment_quantity'].fillna(pigment_quantity_median)\n",
    "\n",
    "# 6. mixing_time: missing->mean (rounded 2 decimals)\n",
    "clean['mixing_time'] = pd.to_numeric(clean['mixing_time'], errors='coerce')\n",
    "mixing_time_mean = round(clean['mixing_time'].mean(), 2)\n",
    "clean['mixing_time'] = clean['mixing_time'].fillna(mixing_time_mean)\n",
    "\n",
    "# 7. mixing_speed: only 'Low', 'Medium', 'High', missing/invalid->'Not Specified'\n",
    "valid_speeds = ['Low', 'Medium', 'High']\n",
    "clean['mixing_speed'] = clean['mixing_speed'].where(clean['mixing_speed'].isin(valid_speeds), 'Not Specified')\n",
    "clean['mixing_speed'] = clean['mixing_speed'].fillna('Not Specified')\n",
    "\n",
    "# 8. product_quality_score: 1-10, missing->mean (rounded 2 decimals), out of range->nan then fill\n",
    "clean['product_quality_score'] = pd.to_numeric(clean['product_quality_score'], errors='coerce')\n",
    "clean.loc[(clean['product_quality_score'] < 1) | (clean['product_quality_score'] > 10), 'product_quality_score'] = np.nan\n",
    "pqs_mean = round(clean['product_quality_score'].mean(), 2)\n",
    "clean['product_quality_score'] = clean['product_quality_score'].fillna(pqs_mean)\n",
    "\n",
    "# Final DataFrame for Task 1\n",
    "clean_data = clean.copy()"
   ]
  },
  {
   "cell_type": "markdown",
   "id": "026b3c30-d3b0-4762-ae10-0f2880873bdc",
   "metadata": {},
   "source": [
    "# Task 2\n",
    "\n",
    "You want to understand how the supplier type and quantity of materials affect the final product attributes.\n",
    "\n",
    "Calculate the average `product_quality_score` and `pigment_quantity` grouped by `raw_material_supplier`.\n",
    "\n",
    "- You should start with the data in the file 'production_data.csv'. \n",
    "- Your output should be a DataFrame named aggregated_data.\n",
    "- It should include the three columns: `raw_material_supplier`, `avg_product_quality_score`, and `avg_pigment_quantity`.\n",
    "- Your answers should be rounded to 2 decimal places.\n"
   ]
  },
  {
   "cell_type": "code",
   "execution_count": 2,
   "id": "6d47e440-c4ab-45cf-af40-53181764bac4",
   "metadata": {
    "executionCancelledAt": null,
    "executionTime": 54,
    "lastExecutedAt": 1723067268988,
    "lastExecutedByKernel": "b30cc9c7-596f-4cd7-8643-cf151d36988f",
    "lastScheduledRunId": null,
    "lastSuccessfullyExecutedCode": "# Task 2"
   },
   "outputs": [],
   "source": [
    "# Group by raw_material_supplier, calculate means\n",
    "agg = clean_data.groupby('raw_material_supplier').agg(\n",
    "    avg_product_quality_score = ('product_quality_score', lambda x: round(x.mean(),2)),\n",
    "    avg_pigment_quantity = ('pigment_quantity', lambda x: round(x.mean(),2))\n",
    ").reset_index()\n",
    "aggregated_data = agg"
   ]
  },
  {
   "cell_type": "markdown",
   "id": "cb821882-c29a-42e7-bff8-e281dc068a9b",
   "metadata": {},
   "source": [
    "# Task 3\n",
    "\n",
    "To get more insight into the factors behind product quality, you want to filter the data to see an average product quality score for a specified set of results.\n",
    "\n",
    "Identify the average `product_quality_score` for batches with a `raw_material_supplier` of 2 and a `pigment_quantity` greater than 35 kg.\n",
    "\n",
    "Write a query to return the average `avg_product_quality_score` for these filtered batches. Use the original production data table, not the output of Task 2.\n",
    "\n",
    "- You should start with the data in the file 'production_data.csv'. \n",
    "- Your output should be a DataFrame named pigment_data.\n",
    "- It should consist of a 1-row DataFrame with 3 columns: `raw_material_supplier`, `pigment_quantity`, and `avg_product_quality_score`.\n",
    "- Your answers should be rounded to 2 decimal places where appropriate.\n"
   ]
  },
  {
   "cell_type": "code",
   "execution_count": 3,
   "id": "b30f8d6b-21cc-4de7-9c88-dffeb602f9d3",
   "metadata": {
    "executionCancelledAt": null,
    "executionTime": 46,
    "lastExecutedAt": 1723067269034,
    "lastExecutedByKernel": "b30cc9c7-596f-4cd7-8643-cf151d36988f",
    "lastScheduledRunId": null,
    "lastSuccessfullyExecutedCode": "# Task 3"
   },
   "outputs": [],
   "source": [
    "# Use original data, filter supplier==2 and pigment_quantity>35\n",
    "pigment_df = df.copy()\n",
    "pigment_df = pigment_df[pigment_df['raw_material_supplier'] == 2]\n",
    "pigment_df = pigment_df[pigment_df['pigment_quantity'] > 35]\n",
    "\n",
    "# Calculate means (after filtering)\n",
    "if not pigment_df.empty:\n",
    "    avg_pqs = round(pigment_df['product_quality_score'].mean(),2)\n",
    "    avg_pq = round(pigment_df['pigment_quantity'].mean(),2)\n",
    "    pigment_data = pd.DataFrame({\n",
    "        'raw_material_supplier': [2],\n",
    "        'pigment_quantity': [avg_pq],\n",
    "        'avg_product_quality_score': [avg_pqs]\n",
    "    })\n",
    "else:\n",
    "    pigment_data = pd.DataFrame({\n",
    "        'raw_material_supplier': [2],\n",
    "        'pigment_quantity': [np.nan],\n",
    "        'avg_product_quality_score': [np.nan]\n",
    "    })"
   ]
  },
  {
   "cell_type": "markdown",
   "id": "42718e48-205a-48ab-8ddc-a93857b71726",
   "metadata": {},
   "source": [
    "# Task 4\n",
    "\n",
    "In order to proceed with further analysis later, you need to analyze how various factors relate to product quality. Start by calculating the mean and standard deviation for the following columns: `pigment_quantity`, and `product_quality_score`. </br> These statistics will help in understanding the central tendency and variability of the data related to product quality.\n",
    "</br> </br >\n",
    "Next, calculate the Pearson correlation coefficient between the following variables: `pigment_quantity`, and `product_quality_score`.\n",
    "</br>\n",
    "These correlation coefficients will provide insights into the strength and direction of the relationships between the factors and overall product quality.\n",
    "\n",
    "\n",
    "- You should start with the data in the file 'production_data.csv'.\n",
    "- Calculate the mean and standard deviation for the columns pigment_quantity and product_quality_score as: `product_quality_score_mean`, `product_quality_score_sd`, `pigment_quantity_mean`, `pigment_quantity_sd`.\n",
    "- Calculate the Pearson correlation coefficient between pigment_quantity and product_quality_score as: `corr_coef`\n",
    "- Your output should be a DataFrame named product_quality.\n",
    "- It should include the columns: `product_quality_score_mean`, `product_quality_score_sd`, `pigment_quantity_mean`, `pigment_quantity_sd`, `corr_coef`.\n",
    "- Ensure that your answers are rounded to 2 decimal places.\n"
   ]
  },
  {
   "cell_type": "code",
   "execution_count": 4,
   "id": "eb9b11fd-07d5-4a39-b2fa-afaa69285e3b",
   "metadata": {
    "executionCancelledAt": null,
    "executionTime": 48,
    "lastExecutedAt": 1723067269082,
    "lastExecutedByKernel": "b30cc9c7-596f-4cd7-8643-cf151d36988f",
    "lastScheduledRunId": null,
    "lastSuccessfullyExecutedCode": "# Task 4"
   },
   "outputs": [],
   "source": [
    "# Use clean_data for stats\n",
    "pq_mean = round(clean_data['product_quality_score'].mean(),2)\n",
    "pq_sd = round(clean_data['product_quality_score'].std(),2)\n",
    "pig_mean = round(clean_data['pigment_quantity'].mean(),2)\n",
    "pig_sd = round(clean_data['pigment_quantity'].std(),2)\n",
    "corr = round(clean_data['pigment_quantity'].corr(clean_data['product_quality_score']),2)\n",
    "product_quality = pd.DataFrame({\n",
    "    'product_quality_score_mean': [pq_mean],\n",
    "    'product_quality_score_sd': [pq_sd],\n",
    "    'pigment_quantity_mean': [pig_mean],\n",
    "    'pigment_quantity_sd': [pig_sd],\n",
    "    'corr_coef': [corr]\n",
    "})"
   ]
  },
  {
   "cell_type": "markdown",
   "id": "55757050-8460-4480-8ae3-634d851c1021",
   "metadata": {},
   "source": [
    "# FORMATTING AND NAMING CHECK\n",
    "Use the code block below to check that your outputs are correctly named and formatted before you submit your project.\n",
    "\n",
    "This code checks whether you have met our automarking requirements: that the specified DataFrames exist and contain the required columns. It then prints a table showing ✅ for each column that exists and ❌ for any that are missing, or if the DataFrame itself isn't available.\n",
    "\n",
    "If a DataFrame or a column in a DataFrame doesn't exist, carefully check your code again.\n",
    "\n",
    "IMPORTANT: even if your code passes the check below, this does not mean that your entire submission is correct. This is a check for naming and formatting only."
   ]
  },
  {
   "cell_type": "code",
   "execution_count": null,
   "id": "32d20ff0-695a-4aba-9faf-c3cac0af19d8",
   "metadata": {},
   "outputs": [],
   "source": [
    "import pandas as pd\n",
    "\n",
    "def check_columns(output_df, output_df_name, required_columns):\n",
    "    results = []\n",
    "    for col in required_columns:\n",
    "        exists = col in output_df.columns\n",
    "        results.append({'Dataset': output_df_name, 'Column': col, 'Exists': '✅' if exists else '❌'})\n",
    "    return results\n",
    "\n",
    "def safe_check(output_df_name, required_columns):\n",
    "    results = []\n",
    "    if output_df_name in globals():\n",
    "        obj = globals()[output_df_name]\n",
    "        if isinstance(obj, pd.DataFrame):\n",
    "            results.extend(check_columns(obj, output_df_name, required_columns))\n",
    "        elif isinstance(obj, str) and (\"SELECT\" in obj.upper() or \"FROM\" in obj.upper()):\n",
    "            results.append({'Dataset': output_df_name, 'Column': '—', 'Exists': 'ℹ️ SQL query string'})\n",
    "        else:\n",
    "            results.append({'Dataset': output_df_name, 'Column': '—', 'Exists': '❌ Not a DataFrame or query'})\n",
    "    else:\n",
    "        results.append({'Dataset': output_df_name, 'Column': '—', 'Exists': '❌ Variable not defined'})\n",
    "    return results\n",
    "\n",
    "requirements = {\n",
    "    'clean_data': ['production_date', 'pigment_type', 'mixing_time', 'mixing_speed'],\n",
    "    'aggregated_data': ['raw_material_supplier', 'avg_product_quality_score', 'avg_pigment_quantity'],\n",
    "    'pigment_data': ['raw_material_supplier', 'pigment_quantity', 'avg_product_quality_score'],\n",
    "    'product_quality': ['product_quality_score_mean', 'product_quality_score_sd',\n",
    "                        'pigment_quantity_mean', 'pigment_quantity_sd', 'corr_coef']\n",
    "}\n",
    "\n",
    "all_results = []\n",
    "for output_df_name, cols in requirements.items():\n",
    "    all_results += safe_check(output_df_name, cols)\n",
    "\n",
    "check_results_df = pd.DataFrame(all_results)\n",
    "\n",
    "print(check_results_df)"
   ]
  }
 ],
 "metadata": {
  "colab": {
   "name": "Welcome to DataCamp Workspaces.ipynb",
   "provenance": []
  },
  "editor": "DataLab",
  "kernelspec": {
   "display_name": "Python 3 (ipykernel)",
   "language": "python",
   "name": "python3"
  },
  "language_info": {
   "codemirror_mode": {
    "name": "ipython",
    "version": 3
   },
   "file_extension": ".py",
   "mimetype": "text/x-python",
   "name": "python",
   "nbconvert_exporter": "python",
   "pygments_lexer": "ipython3",
   "version": "3.12.8"
  }
 },
 "nbformat": 4,
 "nbformat_minor": 5
}
